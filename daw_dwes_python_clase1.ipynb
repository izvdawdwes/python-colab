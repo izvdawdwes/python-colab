{
  "nbformat": 4,
  "nbformat_minor": 0,
  "metadata": {
    "colab": {
      "provenance": [],
      "authorship_tag": "ABX9TyOK2PQS3TfHCAViH0OGz5pD",
      "include_colab_link": true
    },
    "kernelspec": {
      "name": "python3",
      "display_name": "Python 3"
    },
    "language_info": {
      "name": "python"
    }
  },
  "cells": [
    {
      "cell_type": "markdown",
      "metadata": {
        "id": "view-in-github",
        "colab_type": "text"
      },
      "source": [
        "<a href=\"https://colab.research.google.com/github/izvdawdwes/python-colab/blob/main/daw_dwes_python_clase1.ipynb\" target=\"_parent\"><img src=\"https://colab.research.google.com/assets/colab-badge.svg\" alt=\"Open In Colab\"/></a>"
      ]
    },
    {
      "cell_type": "markdown",
      "source": [
        "# Python"
      ],
      "metadata": {
        "id": "ujfeD1dUNRhG"
      }
    },
    {
      "cell_type": "code",
      "source": [
        "#versión de python\n",
        "!python --version"
      ],
      "metadata": {
        "colab": {
          "base_uri": "https://localhost:8080/"
        },
        "id": "_YGOc4GFN9zn",
        "outputId": "dce97310-2df9-4309-9eff-8b75d3e438bf"
      },
      "execution_count": 10,
      "outputs": [
        {
          "output_type": "stream",
          "name": "stdout",
          "text": [
            "Python 3.8.10\n"
          ]
        }
      ]
    },
    {
      "cell_type": "code",
      "source": [
        "!pip install pillow"
      ],
      "metadata": {
        "colab": {
          "base_uri": "https://localhost:8080/"
        },
        "id": "9ihUhjWhPFT_",
        "outputId": "bc5f93c5-6836-431c-9ba0-ca3242e94ccc"
      },
      "execution_count": 11,
      "outputs": [
        {
          "output_type": "stream",
          "name": "stdout",
          "text": [
            "Looking in indexes: https://pypi.org/simple, https://us-python.pkg.dev/colab-wheels/public/simple/\n",
            "Requirement already satisfied: pillow in /usr/local/lib/python3.8/dist-packages (7.1.2)\n"
          ]
        }
      ]
    },
    {
      "cell_type": "code",
      "execution_count": 5,
      "metadata": {
        "id": "VNvvR4VjNBzw"
      },
      "outputs": [],
      "source": [
        "#cuaderno de jupyter\n",
        "lenguaje = 'Python 3.9'"
      ]
    },
    {
      "cell_type": "code",
      "source": [
        "print(lenguaje)"
      ],
      "metadata": {
        "id": "mANlcnxINZ4e"
      },
      "execution_count": null,
      "outputs": []
    },
    {
      "cell_type": "code",
      "source": [
        "lenguaje"
      ],
      "metadata": {
        "id": "JMgYpTMFNad8"
      },
      "execution_count": null,
      "outputs": []
    },
    {
      "cell_type": "code",
      "source": [
        "def ejemplo():\n",
        "  return 3"
      ],
      "metadata": {
        "id": "82qnfapHNav4"
      },
      "execution_count": 7,
      "outputs": []
    },
    {
      "cell_type": "code",
      "source": [
        "ejemplo()"
      ],
      "metadata": {
        "id": "7p6cb68VOR1C"
      },
      "execution_count": null,
      "outputs": []
    },
    {
      "cell_type": "code",
      "source": [
        "lenguaje = 'Python 3.9'\n",
        "print(lenguaje)\n",
        "def ejemplo2():\n",
        "  return 32\n",
        "ejemplo2()"
      ],
      "metadata": {
        "id": "Skk8mPEiOXv9"
      },
      "execution_count": null,
      "outputs": []
    },
    {
      "cell_type": "code",
      "source": [
        "from PIL import Image\n",
        "im = Image.open('foto.jpg')\n",
        "im"
      ],
      "metadata": {
        "id": "kBmiVz8pPvdn"
      },
      "execution_count": null,
      "outputs": []
    }
  ]
}